{
 "cells": [
  {
   "cell_type": "markdown",
   "id": "e5103777",
   "metadata": {},
   "source": [
    "# ConcurrentQA Slices"
   ]
  },
  {
   "cell_type": "code",
   "execution_count": 4,
   "id": "fe8321ca",
   "metadata": {},
   "outputs": [],
   "source": [
    "%load_ext autoreload\n",
    "%autoreload 2"
   ]
  },
  {
   "cell_type": "code",
   "execution_count": 5,
   "id": "6403586f",
   "metadata": {},
   "outputs": [],
   "source": [
    "import os\n",
    "import csv\n",
    "import sys\n",
    "import ujson\n",
    "import json\n",
    "from tqdm import tqdm\n",
    "import pandas as pd\n",
    "import time\n",
    "import ast\n",
    "import re\n",
    "import random\n",
    "import statistics\n",
    "from collections import Counter, defaultdict, OrderedDict\n",
    "from typing import TYPE_CHECKING, Optional, Tuple, Callable, Dict, Any, List"
   ]
  },
  {
   "cell_type": "code",
   "execution_count": 6,
   "id": "08ed52cd",
   "metadata": {},
   "outputs": [],
   "source": [
    "prefix = \"../../\" # FILL IN PATH TO REPO"
   ]
  },
  {
   "cell_type": "code",
   "execution_count": null,
   "id": "be000f4b-d96b-4e9b-a497-54f1314b79cd",
   "metadata": {},
   "outputs": [],
   "source": []
  },
  {
   "cell_type": "markdown",
   "id": "f0d58525",
   "metadata": {
    "tags": []
   },
   "source": [
    "# Loading"
   ]
  },
  {
   "cell_type": "code",
   "execution_count": 8,
   "id": "5890bfce",
   "metadata": {},
   "outputs": [],
   "source": [
    "with open(f\"{prefix}/datasets/concurrentqa/data/CQA_train_all.json\") as f:\n",
    "    all_points = [ast.literal_eval(line) for line in f]"
   ]
  },
  {
   "cell_type": "code",
   "execution_count": 17,
   "id": "5ae275fc-85d7-49fd-9bfb-3aaed5d454a8",
   "metadata": {},
   "outputs": [
    {
     "name": "stderr",
     "output_type": "stream",
     "text": [
      "100%|██████████| 15239/15239 [00:00<00:00, 344923.04it/s]\n"
     ]
    }
   ],
   "source": [
    "all_answers = []\n",
    "all_questions = []\n",
    "all_domains = []\n",
    "questionddtype_counts = Counter()\n",
    "all_points_dict = {}\n",
    "\n",
    "for d in tqdm(all_points):\n",
    "    q_type =  d['type']\n",
    "    answer = d['answer'] \n",
    "    domain = d['domain']\n",
    "    question = d['question']\n",
    "    all_answers.append(answer)\n",
    "    all_questions.append(question)\n",
    "    all_points_dict[d['_id']] = d"
   ]
  },
  {
   "cell_type": "code",
   "execution_count": null,
   "id": "c4a77fe3-267c-4f3b-b810-65fdfe9cb1b5",
   "metadata": {},
   "outputs": [],
   "source": []
  },
  {
   "cell_type": "markdown",
   "id": "5ae9f1f4",
   "metadata": {},
   "source": [
    "## Topical Slices of the Dataset"
   ]
  },
  {
   "cell_type": "code",
   "execution_count": 18,
   "id": "c7ae712d-aafc-4f92-a14c-9eddac098882",
   "metadata": {},
   "outputs": [
    {
     "data": {
      "text/html": [
       "<div>\n",
       "<style scoped>\n",
       "    .dataframe tbody tr th:only-of-type {\n",
       "        vertical-align: middle;\n",
       "    }\n",
       "\n",
       "    .dataframe tbody tr th {\n",
       "        vertical-align: top;\n",
       "    }\n",
       "\n",
       "    .dataframe thead th {\n",
       "        text-align: right;\n",
       "    }\n",
       "</style>\n",
       "<table border=\"1\" class=\"dataframe\">\n",
       "  <thead>\n",
       "    <tr style=\"text-align: right;\">\n",
       "      <th></th>\n",
       "      <th>question</th>\n",
       "      <th>answer</th>\n",
       "      <th>_id</th>\n",
       "      <th>domain</th>\n",
       "      <th>type</th>\n",
       "      <th>sp</th>\n",
       "    </tr>\n",
       "  </thead>\n",
       "  <tbody>\n",
       "    <tr>\n",
       "      <th>PAIRIDX:63096</th>\n",
       "      <td>According to the spokesperson who claimed Enro...</td>\n",
       "      <td>30-minute</td>\n",
       "      <td>PAIRIDX:63096</td>\n",
       "      <td>[0, 0]</td>\n",
       "      <td>bridge</td>\n",
       "      <td>[{'title': 'e856_p1', 'sents': ['The stock was...</td>\n",
       "    </tr>\n",
       "  </tbody>\n",
       "</table>\n",
       "</div>"
      ],
      "text/plain": [
       "                                                        question     answer  \\\n",
       "PAIRIDX:63096  According to the spokesperson who claimed Enro...  30-minute   \n",
       "\n",
       "                         _id  domain    type  \\\n",
       "PAIRIDX:63096  PAIRIDX:63096  [0, 0]  bridge   \n",
       "\n",
       "                                                              sp  \n",
       "PAIRIDX:63096  [{'title': 'e856_p1', 'sents': ['The stock was...  "
      ]
     },
     "execution_count": 18,
     "metadata": {},
     "output_type": "execute_result"
    }
   ],
   "source": [
    "shortlisted_keys = [key for key in all_points[0].keys()]\n",
    "df = pd.DataFrame.from_dict(all_points_dict, orient='index', columns=shortlisted_keys)\n",
    "df.head(1)"
   ]
  },
  {
   "cell_type": "markdown",
   "id": "6649b50d-42f6-40a7-9c8b-c6953fa3c8c7",
   "metadata": {},
   "source": [
    "##### investment"
   ]
  },
  {
   "cell_type": "code",
   "execution_count": 20,
   "id": "b3bee033-fa77-43c7-b7a5-67166aa59146",
   "metadata": {
    "tags": []
   },
   "outputs": [
    {
     "name": "stdout",
     "output_type": "stream",
     "text": [
      "Investing, found 1227, 0.08051709429752608 questions in slice.\n",
      "\n"
     ]
    }
   ],
   "source": [
    "slice_investors = []\n",
    "for i, (ind, value) in enumerate(df.iterrows()):\n",
    "    if re.search(\".*investor.*\", value['question']):\n",
    "        slice_investors.append(ind)\n",
    "    elif re.search(\".*funded.*\", value['question']):\n",
    "        slice_investors.append(ind)\n",
    "    elif re.search(\".*funder.*\", value['question']):\n",
    "        slice_investors.append(ind)\n",
    "    elif re.search(\".*backer.*\", value['question']):\n",
    "        slice_investors.append(ind)\n",
    "    elif re.search(\".*backed.*\", value['question']):\n",
    "        slice_investors.append(ind)\n",
    "    elif re.search(\"^Which investor.*backed both.*\", value['question']):\n",
    "        slice_investors.append(ind)\n",
    "    elif re.search(\"^Who.*backs both.*\", value['question']):\n",
    "        slice_investors.append(ind)\n",
    "    elif re.search(\"^What.*backer also backed.*?\", value['question']):\n",
    "        slice_investors.append(ind)\n",
    "    elif re.search(\"^.*invested in both.*and.*?\", value['question']):\n",
    "        slice_investors.append(ind)\n",
    "    elif re.search(\"^.*invested in.*round.*and.*?\", value['question']):\n",
    "        slice_investors.append(ind)\n",
    "    elif re.search(\"^.*invested in both.*as well as.*?\", value['question']):\n",
    "        slice_investors.append(ind)\n",
    "\n",
    "print(f\"Investing, found {len(slice_investors)}, {len(slice_investors)/len(df)} questions in slice.\\n\")"
   ]
  },
  {
   "cell_type": "code",
   "execution_count": null,
   "id": "5c1ed444-3aa0-40ec-952d-e4919d34945f",
   "metadata": {},
   "outputs": [],
   "source": []
  },
  {
   "cell_type": "markdown",
   "id": "12abe5e3-be53-4a94-8d3a-d31b9a677a8a",
   "metadata": {},
   "source": [
    "##### legal discourse"
   ]
  },
  {
   "cell_type": "code",
   "execution_count": 21,
   "id": "00d209e0-d9ec-48fe-a8df-e3e5eaa713b4",
   "metadata": {
    "tags": []
   },
   "outputs": [
    {
     "name": "stdout",
     "output_type": "stream",
     "text": [
      "Legal, found 329, 0.021589343132751494 questions in slice.\n",
      "\n"
     ]
    }
   ],
   "source": [
    "slice_legal = []\n",
    "for i, (ind, value) in enumerate(df.iterrows()):\n",
    "    if re.search(\".*judge.*\", value['question'].lower()):\n",
    "        slice_legal.append(ind)\n",
    "    elif re.search(\".* sued.*\", value['question'].lower()):\n",
    "        slice_legal.append(ind)\n",
    "    elif re.search(\".*bill .*\", value['question']):\n",
    "        slice_legal.append(ind)\n",
    "    elif re.search(\".*lawsuit.*\", value['question']):\n",
    "        slice_legal.append(ind)\n",
    "print(f\"Legal, found {len(slice_legal)}, {len(slice_legal)/len(df)} questions in slice.\\n\")"
   ]
  },
  {
   "cell_type": "code",
   "execution_count": null,
   "id": "334ff062-3117-4989-9497-259f98280edf",
   "metadata": {},
   "outputs": [],
   "source": []
  },
  {
   "cell_type": "markdown",
   "id": "26caa7f5-ef22-495a-844e-ce0cb14fb72d",
   "metadata": {
    "tags": []
   },
   "source": [
    "##### newspapers"
   ]
  },
  {
   "cell_type": "code",
   "execution_count": 23,
   "id": "4dfeaa4c-c8af-4616-9045-b7bd815e14ea",
   "metadata": {},
   "outputs": [
    {
     "name": "stdout",
     "output_type": "stream",
     "text": [
      "News, found 900, 0.05905899337226852 questions in slice.\n",
      "\n"
     ]
    }
   ],
   "source": [
    "slice_newspapers = []\n",
    "for i, (ind, value) in enumerate(df.iterrows()):\n",
    "    if re.search(\".*paper.*\", value['question']):\n",
    "        slice_newspapers.append(ind)\n",
    "    elif re.search(\".*reported.*\", value['question']):\n",
    "        slice_newspapers.append(ind)\n",
    "    elif re.search(\".*staff writer.*\", value['question']):\n",
    "        slice_newspapers.append(ind)\n",
    "    elif re.search(\".*article.*\", value['question']):\n",
    "        slice_newspapers.append(ind)\n",
    "    elif re.search(\".*wrote a piece.*\", value['question']):\n",
    "        slice_newspapers.append(ind)\n",
    "\n",
    "print(f\"News, found {len(slice_newspapers)}, {len(slice_newspapers)/len(df)} questions in slice.\\n\")"
   ]
  },
  {
   "cell_type": "code",
   "execution_count": null,
   "id": "85db19ad-6591-42bc-afd8-4c2f140230b3",
   "metadata": {},
   "outputs": [],
   "source": []
  },
  {
   "cell_type": "markdown",
   "id": "7a6ac353-5b7a-440c-be93-8a0bc3bc852b",
   "metadata": {
    "tags": []
   },
   "source": [
    "##### geography"
   ]
  },
  {
   "cell_type": "code",
   "execution_count": 24,
   "id": "aa2c2b06-b0dd-42ee-9a2b-46e9fc12fe87",
   "metadata": {},
   "outputs": [
    {
     "name": "stdout",
     "output_type": "stream",
     "text": [
      "Geography, found 69, 0.004527856158540586 questions in slice.\n",
      "\n"
     ]
    }
   ],
   "source": [
    "slice_geography = []\n",
    "for i, (ind, value) in enumerate(df.iterrows()):\n",
    "    if re.search(\".*based in what state.*\", value['question']):\n",
    "        slice_geography.append(ind)\n",
    "    elif re.search(\".*based in what city.*\", value['question']):\n",
    "        slice_geography.append(ind)\n",
    "    elif re.search(\".*based in what country.*\", value['question']):\n",
    "        slice_geography.append(ind)\n",
    "    elif re.search(\".*located in what state.*\", value['question']):\n",
    "        slice_geography.append(ind)\n",
    "    elif re.search(\".*located in what city.*\", value['question']):\n",
    "        slice_geography.append(ind)\n",
    "\n",
    "print(f\"Geography, found {len(slice_geography)}, {len(slice_geography)/len(df)} questions in slice.\\n\")"
   ]
  },
  {
   "cell_type": "code",
   "execution_count": null,
   "id": "663fda58-6b74-4e21-8901-39d1a9a179f4",
   "metadata": {},
   "outputs": [],
   "source": []
  },
  {
   "cell_type": "markdown",
   "id": "2f3005c8-1876-4aaf-90ed-8b03a37178c9",
   "metadata": {},
   "source": [
    "##### population"
   ]
  },
  {
   "cell_type": "code",
   "execution_count": 25,
   "id": "651019ef-a3fe-4112-8b48-514792f313b7",
   "metadata": {},
   "outputs": [
    {
     "name": "stdout",
     "output_type": "stream",
     "text": [
      "Geography, found 262, 0.017192729181704836 questions in slice.\n",
      "\n"
     ]
    }
   ],
   "source": [
    "slice_population = []\n",
    "for i, (ind, value) in enumerate(df.iterrows()):\n",
    "    if re.search(\".*population of.*\", value['question']):\n",
    "        slice_population.append(ind)\n",
    "\n",
    "print(f\"Geography, found {len(slice_population)}, {len(slice_population)/len(df)} questions in slice.\\n\")"
   ]
  },
  {
   "cell_type": "code",
   "execution_count": null,
   "id": "54035ab1-1f33-4ac7-8870-cc9d1a5c021c",
   "metadata": {},
   "outputs": [],
   "source": []
  },
  {
   "cell_type": "markdown",
   "id": "3e2502ae-9e93-4fbf-a264-0bf8a3563212",
   "metadata": {
    "tags": []
   },
   "source": [
    "##### birth"
   ]
  },
  {
   "cell_type": "code",
   "execution_count": 26,
   "id": "39a25e23-3cd1-424c-b43a-d7b138a8ffae",
   "metadata": {},
   "outputs": [
    {
     "name": "stderr",
     "output_type": "stream",
     "text": [
      "15239it [00:06, 2536.71it/s]"
     ]
    },
    {
     "name": "stdout",
     "output_type": "stream",
     "text": [
      "Birth, found 351, 0.023033007415184725 questions in slice.\n",
      "\n"
     ]
    },
    {
     "name": "stderr",
     "output_type": "stream",
     "text": [
      "\n"
     ]
    }
   ],
   "source": [
    "slice_birth = []\n",
    "for i, (ind, value) in tqdm(enumerate(df.iterrows())):\n",
    "    if re.search(\".*year of birth.*\", value['question']):\n",
    "        slice_birth.append(ind)\n",
    "    elif re.search(\".*date of birth.*\", value['question']):\n",
    "        slice_birth.append(ind)\n",
    "    elif re.search(\".*month of birth.*\", value['question']):\n",
    "        slice_birth.append(ind)\n",
    "    elif re.search(\".*was born in.*what year\", value['question']):\n",
    "        slice_birth.append(ind)\n",
    "    elif re.search(\".*was born in.*what month\", value['question']):\n",
    "        slice_birth.append(ind)\n",
    "    elif re.search(\"^When was.*born.*\", value['question']):\n",
    "        slice_birth.append(ind)\n",
    "    elif re.search(\"^Where was.*born.*\", value['question']):\n",
    "        slice_birth.append(ind)\n",
    "    elif re.search(\".*place of birth.*\", value['question']):\n",
    "        slice_birth.append(ind)\n",
    "    elif re.search(\".*was born in.*what city\", value['question']):\n",
    "        slice_birth.append(ind)\n",
    "    elif re.search(\".*was born in.*what place\", value['question']):\n",
    "        slice_birth.append(ind)\n",
    "    elif re.search(\".*was born where.*\", value['question']):\n",
    "        slice_birth.append(ind)\n",
    "\n",
    "print(f\"Birth, found {len(slice_birth)}, {len(slice_birth)/len(df)} questions in slice.\\n\")"
   ]
  },
  {
   "cell_type": "code",
   "execution_count": null,
   "id": "30a4f19b-d97c-4a54-927f-0ef107828106",
   "metadata": {},
   "outputs": [],
   "source": []
  },
  {
   "cell_type": "markdown",
   "id": "3281394c-22ba-4722-affc-e4438809041f",
   "metadata": {},
   "source": [
    "##### stock prices"
   ]
  },
  {
   "cell_type": "code",
   "execution_count": 27,
   "id": "6656d6a8-3723-4266-a874-12b7ee867234",
   "metadata": {},
   "outputs": [
    {
     "name": "stderr",
     "output_type": "stream",
     "text": [
      "15239it [00:04, 3773.14it/s]"
     ]
    },
    {
     "name": "stdout",
     "output_type": "stream",
     "text": [
      "Stocks, found 42, 0.002756086357372531 questions in slice.\n",
      "\n"
     ]
    },
    {
     "name": "stderr",
     "output_type": "stream",
     "text": [
      "\n"
     ]
    }
   ],
   "source": [
    "slice_stocks = []\n",
    "for i, (ind, value) in tqdm(enumerate(df.iterrows())):\n",
    "    if re.search(\".*stock price.*\", value['question']):\n",
    "        slice_stocks.append(ind)\n",
    "    elif re.search(\".*share price.*\", value['question']):\n",
    "        slice_stocks.append(ind)\n",
    "    elif re.search(\".*dollars per share.*\", value['question']):\n",
    "        slice_stocks.append(ind)\n",
    "    elif re.search(\".*cents.*share.*\", value['question']):\n",
    "        slice_stocks.append(ind)\n",
    "    elif re.search(\".*quarter.*earnings.*\", value['question']):\n",
    "        slice_stocks.append(ind)\n",
    "\n",
    "print(f\"Stocks, found {len(slice_stocks)}, {len(slice_stocks)/len(df)} questions in slice.\\n\")"
   ]
  },
  {
   "cell_type": "code",
   "execution_count": null,
   "id": "2460a706-fd36-4fe7-86ee-2ab79c6a4a60",
   "metadata": {},
   "outputs": [],
   "source": []
  },
  {
   "cell_type": "markdown",
   "id": "051e339c-a294-476f-8bcd-3e02e38a7b71",
   "metadata": {},
   "source": [
    "##### email features"
   ]
  },
  {
   "cell_type": "code",
   "execution_count": 28,
   "id": "2177ff38",
   "metadata": {},
   "outputs": [
    {
     "name": "stderr",
     "output_type": "stream",
     "text": [
      "15239it [00:04, 3695.24it/s]"
     ]
    },
    {
     "name": "stdout",
     "output_type": "stream",
     "text": [
      "Emails Features, found 141, 0.009252575628322069 questions in slice.\n",
      "\n"
     ]
    },
    {
     "name": "stderr",
     "output_type": "stream",
     "text": [
      "\n"
     ]
    }
   ],
   "source": [
    "slice_email_ftrs = []\n",
    "for i, (ind, value) in tqdm(enumerate(df.iterrows())):\n",
    "    if re.search(\".*sent an e-mail on.*\", value['question']):\n",
    "        slice_email_ftrs.append(ind)\n",
    "    elif re.search(\".*the recipient.*e-mail*\", value['question']):\n",
    "        slice_email_ftrs.append(ind)\n",
    "    elif re.search(\".*e-mail*\", value['question']):\n",
    "        slice_email_ftrs.append(ind)\n",
    "    elif re.search(\".*e-mail*\", value['question']):\n",
    "        slice_email_ftrs.append(ind)\n",
    "        \n",
    "print(f\"Emails Features, found {len(slice_email_ftrs)}, {len(slice_email_ftrs)/len(df)} questions in slice.\\n\")"
   ]
  },
  {
   "cell_type": "code",
   "execution_count": null,
   "id": "b6a6e8a3-6190-47b2-8d9a-3ad3ac05b43c",
   "metadata": {},
   "outputs": [],
   "source": []
  },
  {
   "cell_type": "markdown",
   "id": "685e535d-e864-40a0-9448-52076b49e342",
   "metadata": {},
   "source": [
    "##### Company positions and titles of employees"
   ]
  },
  {
   "cell_type": "code",
   "execution_count": 30,
   "id": "076838b2-0036-41bd-94ca-81064a304371",
   "metadata": {},
   "outputs": [
    {
     "name": "stderr",
     "output_type": "stream",
     "text": [
      "15239it [00:05, 2918.85it/s]"
     ]
    },
    {
     "name": "stdout",
     "output_type": "stream",
     "text": [
      "Positions, found 274, 0.017980182426668417 questions in slice.\n",
      "\n"
     ]
    },
    {
     "name": "stderr",
     "output_type": "stream",
     "text": [
      "\n"
     ]
    }
   ],
   "source": [
    "slice_position = []\n",
    "for i, (ind, value) in tqdm(enumerate(df.iterrows())):\n",
    "    if re.search(\".*is the president.*\", value['question']):\n",
    "        slice_position.append(ind)\n",
    "    elif re.search(\".*is the vice president.*\", value['question']):\n",
    "        slice_position.append(ind)\n",
    "    elif re.search(\".*chief.*officer.*\", value['question']):\n",
    "        slice_position.append(ind)\n",
    "    elif re.search(\"Who is the.*of.*\", value['question']):\n",
    "        slice_position.append(ind)\n",
    "    elif re.search(\".*holds.*position at.*\", value['question']):\n",
    "        slice_position.append(ind)\n",
    "    elif re.search(\".*is the head of.*\", value['question']):\n",
    "        slice_position.append(ind)\n",
    "    elif re.search(\".*board member.*\", value['question']):\n",
    "        slice_position.append(ind)\n",
    "\n",
    "print(f\"Positions, found {len(slice_position)}, {len(slice_position)/len(df)} questions in slice.\\n\")"
   ]
  },
  {
   "cell_type": "code",
   "execution_count": null,
   "id": "ed543331-26b7-4b77-a758-454b4f4bc407",
   "metadata": {},
   "outputs": [],
   "source": []
  }
 ],
 "metadata": {
  "kernelspec": {
   "display_name": "Python 3",
   "language": "python",
   "name": "python3"
  },
  "language_info": {
   "codemirror_mode": {
    "name": "ipython",
    "version": 3
   },
   "file_extension": ".py",
   "mimetype": "text/x-python",
   "name": "python",
   "nbconvert_exporter": "python",
   "pygments_lexer": "ipython3",
   "version": "3.6.13"
  }
 },
 "nbformat": 4,
 "nbformat_minor": 5
}
