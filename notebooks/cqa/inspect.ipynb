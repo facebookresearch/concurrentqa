{
 "cells": [
  {
   "cell_type": "markdown",
   "id": "077ee563-2e29-4a28-b884-12197e9b39f2",
   "metadata": {},
   "source": [
    "# Inspect ConcurrentQA Data"
   ]
  },
  {
   "cell_type": "code",
   "execution_count": 2,
   "id": "75b3e0fa-c0ef-4680-a7a6-2b7aef6965d7",
   "metadata": {},
   "outputs": [],
   "source": [
    "import json\n",
    "import ast"
   ]
  },
  {
   "cell_type": "code",
   "execution_count": 3,
   "id": "5117a205-a35f-4936-a647-4126cb436187",
   "metadata": {},
   "outputs": [],
   "source": [
    "prefix = \"../../\" # FILL IN PATH TO REPO"
   ]
  },
  {
   "cell_type": "code",
   "execution_count": null,
   "id": "e8798c88-88b5-4bd4-8021-0a2793178c51",
   "metadata": {},
   "outputs": [],
   "source": []
  },
  {
   "cell_type": "markdown",
   "id": "cd51f55f-2dbe-43c5-ba03-4dced869bd07",
   "metadata": {
    "tags": []
   },
   "source": [
    "### Reader training data"
   ]
  },
  {
   "cell_type": "code",
   "execution_count": 7,
   "id": "b3142b6c-3f6d-4137-ab5b-d212274ff6fa",
   "metadata": {},
   "outputs": [
    {
     "data": {
      "text/plain": [
       "{'question': \"According to the spokesperson who claimed Enron's exposure to Pacific Gas & Electric would not affect their financial condition, how long was Lay's meeting with Cheney?\",\n",
       " 'answer': '30-minute',\n",
       " '_id': 'PAIRIDX:63096',\n",
       " 'domain': [0, 0],\n",
       " 'type': 'bridge',\n",
       " 'sp': [{'title': 'e856_p1',\n",
       "   'sents': ['The stock was down 94 cents at $29.96 in late trading.',\n",
       "    \"Charlotte-based Duke, which produces 3,000 megawatts, or about 5 percent of the state's power, fell $2.20 to $40.20 after reaching $38.44, down 9.3 percent.\",\n",
       "    'A megawatt is enough to light 1,000 typical United States homes.',\n",
       "    \"Houston-based Dynegy, which controls 2,800 megawatts of power in a partnership with NRG Energy Inc. of Minneapolis, fell $3.11 to $47.81 after falling as much as 9.7 percent to $46. NRG Energy shares fell $1.50 to $29.90. Calpine Corp., a San Jose, California-based generator and power-plant developer, fell $5.04, or 9.9 percent, to $45.60. Houston-based Reliant fell $1.85 to $43.50. Tulsa, Oklahoma-based Williams Cos. fell $1.17 to $40.70. Enron Corp. of Houston, which sells power and natural gas in California, fell $1.56 to $54.14. Enron's exposure to Pacific Gas & Electric ``will not have any material effect on earnings or our financial condition,'' Enron spokesman Vance Meyer said.\"],\n",
       "   'sp_sent_idx': [3]},\n",
       "  {'title': 'e2934_p5',\n",
       "   'sents': ['Aides say Cheney met with only half a dozen of the interest groups seeking input into the policy, including Enron Corp., the Houston energy conglomerate that is a large and longtime Bush contributor, and the Edison Electric Institute, an energy trade group.',\n",
       "    \"Vance Meyer, a spokesman for Enron, said the firm's chairman, Kenneth Lay, and another executive had a 30-minute meeting with Cheney.\",\n",
       "    'Edison assembled 15 or 20 chief executives to meet with Cheney.',\n",
       "    'But Lundquist and Knudsen, representing Cheney, met with half of the 400 or so groups -- industry, environmental, regulatory and academic -- that requested access.',\n",
       "    'Exactly which groups the Cheney advisers met with is being kept secret by the White House.',\n",
       "    \"The task force's stealthy operation reflects Cheney's distaste for publicity.\",\n",
       "    'Following news reports about the private nature of the energy deliberations, Democrats on the House Energy and Commerce Committee and Government Reform Committee requested information about the groups the task force met with.'],\n",
       "   'sp_sent_idx': [1]}]}"
      ]
     },
     "execution_count": 7,
     "metadata": {},
     "output_type": "execute_result"
    }
   ],
   "source": [
    "with open(f\"{prefix}/datasets/concurrentqa/data/CQA_train_all.json\") as f:\n",
    "    train = [ast.literal_eval(line) for line in f]\n",
    "    \n",
    "train[0]"
   ]
  },
  {
   "cell_type": "code",
   "execution_count": null,
   "id": "839b1ac7-fc1c-4197-a31a-a569f8d2122d",
   "metadata": {},
   "outputs": [],
   "source": []
  },
  {
   "cell_type": "markdown",
   "id": "7b4e4d0e-cd6c-4280-bc4e-c35b545a97b0",
   "metadata": {},
   "source": [
    "### Retriever training data"
   ]
  },
  {
   "cell_type": "code",
   "execution_count": 8,
   "id": "1fb9e216-7737-4f29-853d-ba557867694e",
   "metadata": {},
   "outputs": [
    {
     "data": {
      "text/plain": [
       "{'_id': 'PAIRIDX:63096',\n",
       " 'answers': ['30-minute'],\n",
       " 'question': \"According to the spokesperson who claimed Enron's exposure to Pacific Gas & Electric would not affect their financial condition, how long was Lay's meeting with Cheney?\",\n",
       " 'pos_paras': [{'title': 'e856_p1',\n",
       "   'text': \"The stock was down 94 cents at $29.96 in late trading. Charlotte-based Duke, which produces 3,000 megawatts, or about 5 percent of the state's power, fell $2.20 to $40.20 after reaching $38.44, down 9.3 percent. A megawatt is enough to light 1,000 typical United States homes. Houston-based Dynegy, which controls 2,800 megawatts of power in a partnership with NRG Energy Inc. of Minneapolis, fell $3.11 to $47.81 after falling as much as 9.7 percent to $46. NRG Energy shares fell $1.50 to $29.90. Calpine Corp., a San Jose, California-based generator and power-plant developer, fell $5.04, or 9.9 percent, to $45.60. Houston-based Reliant fell $1.85 to $43.50. Tulsa, Oklahoma-based Williams Cos. fell $1.17 to $40.70. Enron Corp. of Houston, which sells power and natural gas in California, fell $1.56 to $54.14. Enron's exposure to Pacific Gas & Electric ``will not have any material effect on earnings or our financial condition,'' Enron spokesman Vance Meyer said.\"},\n",
       "  {'title': 'e2934_p5',\n",
       "   'text': \"Aides say Cheney met with only half a dozen of the interest groups seeking input into the policy, including Enron Corp., the Houston energy conglomerate that is a large and longtime Bush contributor, and the Edison Electric Institute, an energy trade group. Vance Meyer, a spokesman for Enron, said the firm's chairman, Kenneth Lay, and another executive had a 30-minute meeting with Cheney. Edison assembled 15 or 20 chief executives to meet with Cheney. But Lundquist and Knudsen, representing Cheney, met with half of the 400 or so groups -- industry, environmental, regulatory and academic -- that requested access. Exactly which groups the Cheney advisers met with is being kept secret by the White House. The task force's stealthy operation reflects Cheney's distaste for publicity. Following news reports about the private nature of the energy deliberations, Democrats on the House Energy and Commerce Committee and Government Reform Committee requested information about the groups the task force met with.\"}],\n",
       " 'neg_paras': [{'title': 'Ialmenus',\n",
       "   'text': 'In Greek mythology, Ialmenus was a son of Ares and Astyoche, and twin brother of Ascalaphus. Together with his brother, he sailed with the Argonauts, was among the suitors of Helen and led the Orchomenian contingent in the Trojan War.'},\n",
       "  {'title': 'Odyssey (TV channel)',\n",
       "   'text': 'Odyssey (also known as OTN1) is a Canadian Greek language Category A specialty channel and is owned by Odyssey Television Network. It features programming from ANT1 Satellite, a private network from Greece as well as local Canadian content produced by Odyssey and other independent companies.'},\n",
       "  {'title': 'Universidad, San Juan, Puerto Rico',\n",
       "   'text': 'Universidad is one of the 18 districts of San Juan, Puerto Rico. It originally belonged to the municipality of Río Piedras. When Río Piedras was annexed to San Juan in 1951, Universidad became one of its districts.'},\n",
       "  {'title': 'Loon Lake (novel)',\n",
       "   'text': 'Loon Lake is a 1980 novel by E. L. Doctorow published in 1980. The plot of the novel is mostly set on Loon Lake in the Adirondacks during the Depression. The novel is one of the more experimental works of Doctorow, incorporating a great variety of different techniques, many of which are used for preventing the reader from an easy understanding of the narration: traditional narratives, stream of consciousness, poetry, mixed up chronology.'},\n",
       "  {'title': \"She Ain't Got...\",\n",
       "   'text': '\"She Ain\\'t Got...\" is a song recorded by American singer LeToya Luckett released as the second single taken from her second studio album Lady Love (2009). The song was written by LeToya Luckett, Andre Merritt, Chris Brown, Cory Bold and produced by Bold. The song was released on June 1, 2009, through Capital Records.'},\n",
       "  {'title': 'Vidyasagar Shishu Niketan',\n",
       "   'text': 'Vidyasagar Shishu Niketan is run by the Society for the Betterment of Education which was formed by a group of educationists and administrators on 4 September 1974 with the active help and encouragement from Sri Dipak Ghosh I.A.S, the then District Magistrate of Midnapore to impart better education to the school going children of Midnapore Town and to establish institutions for this purpose. This group felt that children should be able to feel at home anywhere in India during their student life and also later in their working life. For this reason, they decided to set up a school where education would be imparted through the medium of English.'},\n",
       "  {'title': 'Karen Ellemann',\n",
       "   'text': 'Karen Ellemann (born Charlottenlund, 26 August 1969) is a Danish member of parliament for the party Venstre and current Minister for Equality and'},\n",
       "  {'title': 'Mary Adamson Anderson Marshall',\n",
       "   'text': 'Mary Anderson (Mary Adamson Anderson Marshall, 1837 – 1910) was a physician and one of the members of the Edinburgh Seven, the first women to study medicine at the University of Edinburgh.'},\n",
       "  {'title': 'Anacomp',\n",
       "   'text': 'Anacomp, Inc., is an American company that specializes in computer services and document management. It was founded in Indianapolis, Indiana in 1968 by three Purdue University professors, but is now headquartered in Chantilly, Virginia. The name Anacomp is a combination of the words ANAlyze and COMPute . Since its inception, Anacomp has made many acquisitions and spin-offs and has entered and exited different lines of business.'},\n",
       "  {'title': 'High School English',\n",
       "   'text': '\"High School English\" is the seventh episode of the fifteenth season of the animated sitcom \"Family Guy\", and the 276th episode overall. It aired on Fox in the United States on November 20, 2016, and is written by Ted Jessup and directed by Steve Robertson.'},\n",
       "  {'title': 'Schoenoplectus heterochaetus',\n",
       "   'text': 'Schoenoplectus heterochaetus is a species of flowering plant in the sedge family known by the common name slender bulrush. It is native to North America, where it can be found in scattered locations in Canada and the United States.'},\n",
       "  {'title': 'Ann Mroz',\n",
       "   'text': 'Ann Mroz is a British-Polish journalist, former editor of Times Higher Education and current editor and digital publishing director of the TES (Times Educational Supplement).'},\n",
       "  {'title': 'Philip van Dijk',\n",
       "   'text': 'Philip van Dijk (10 January 1683 – 2 February 1753) was an 18th-century painter from the Northern Netherlands'},\n",
       "  {'title': 'Push–pull connector',\n",
       "   'text': 'The Push–pull connector was invented by Swiss connectors manufacturer LEMO and is a type of cable interconnect that provides a strong locking mechanism that is only released by squeezing the connector body, preventing accidental disconnects. The connector is cylindrical, enabling a wide range of body styles and configurations such as low or high voltage multipin, coaxial, triaxial, fluid and gas.'},\n",
       "  {'title': 'Alabaster (disambiguation)',\n",
       "   'text': 'Alabaster is a name applied to certain minerals, mainly gypsum (a hydrous sulfate of calcium) and calcite (a carbonate of calcium).'},\n",
       "  {'title': 'England national blind cricket team',\n",
       "   'text': 'England National Blind Cricket Team represents England at Blind cricket.England blind cricket team went onto participate in the inaugural edition of the Blind Cricket World Cup in 1998.The England blind cricket team also mainly participates in T20 Internationals and One Dayers'},\n",
       "  {'title': 'e4740_p3',\n",
       "   'text': \"Mr. Brooks and Mr. Eggers will also serve on Iris Labs' board, along with Jennifer Gill Roberts of Sevin Rosen. Mr. Brooks, Ms. Roberts, and George Chase of Hook Partners will sit on Metera's board. http: www.irislabs.com Infrastructure Provider Intira Holds $140 Million Round Two PLEASANTON, Calif. -- Intira, a provider of IT and network infrastructure for online business applications on an outsourced basis, said it raised over $140 million in its second round of funding. Investors in the round include Bain Capital, Chase Capital Partners, Lehman Brothers, Mayfield Fund, New Enterprise Associates, and Spectrum Equity Investors also funded the round. The company wil use the funding to further develop its outsourced infrastructure platform, create and improve service level agreements, and for customer initiatives. Intira has also been backed by Apollo Group, Cargil Associates, Goldman Sachs, Lowes, Och-Ziff Management, and Putnam Investments. http: www.intira.com Free Internet Firm Freei Networks Files For Bankruptcy FEDERAL WAY, Wash. -- After laying off a third of its staff and pulling its IPO last week, Freei Networks has filed for Chapter 11 bankruptcy protection.\"},\n",
       "  {'title': 'Briarfield Academy',\n",
       "   'text': 'Briarfield Academy is a non-sectarian, private school admitting pre-Kindergarten through twelfth grade students. It is located on Riddle Lane in Lake Providence in East Carroll Parish in northeastern Louisiana. The school has more than 250 students.'},\n",
       "  {'title': 'Chaim Richman',\n",
       "   'text': 'Chaim Richman is a rabbi in Israel, the International Director of the Temple Institute, which is dedicated to the rebuilding of the Holy Temple in Jerusalem, and a member of the current effort to revive the Sanhedrin.'}],\n",
       " 'type': 'bridge',\n",
       " 'bridge': 'e2934_p5'}"
      ]
     },
     "execution_count": 8,
     "metadata": {},
     "output_type": "execute_result"
    }
   ],
   "source": [
    "with open(f\"{prefix}/datasets/concurrentqa/data/Retriever_CQA_train_all_original.json\") as f:\n",
    "    train = [ast.literal_eval(line) for line in f]\n",
    "    \n",
    "train[0]"
   ]
  },
  {
   "cell_type": "code",
   "execution_count": null,
   "id": "5a3a8c4c-08c4-4dd5-b954-7a92f194f444",
   "metadata": {},
   "outputs": [],
   "source": []
  },
  {
   "cell_type": "markdown",
   "id": "ea621d25-b0a7-46c7-8752-22445383c87d",
   "metadata": {},
   "source": [
    "#### Passage title to sentences map"
   ]
  },
  {
   "cell_type": "code",
   "execution_count": 7,
   "id": "34cf8aaf-558f-4bac-9066-63616312c0a9",
   "metadata": {},
   "outputs": [],
   "source": [
    "with open(f\"{prefix}/datasets/concurrentqa/corpora/title2sent_map.json\") as f:\n",
    "    title2sents = json.load(f)"
   ]
  },
  {
   "cell_type": "code",
   "execution_count": 8,
   "id": "a6096d9e-c961-4d43-a44a-ff69aa0d0333",
   "metadata": {},
   "outputs": [
    {
     "name": "stdout",
     "output_type": "stream",
     "text": [
      "One Night Stand (1984 film) ['One Night Stand is a 1984 film directed by John Duigan.']\n"
     ]
    }
   ],
   "source": [
    "for ind, (k, v) in enumerate(title2sents.items()):\n",
    "    print(k, v)\n",
    "    break"
   ]
  },
  {
   "cell_type": "code",
   "execution_count": null,
   "id": "0fd0f378-dd20-4a43-8684-df044cb60632",
   "metadata": {},
   "outputs": [],
   "source": []
  },
  {
   "cell_type": "markdown",
   "id": "d792ade7-9087-4c6c-8eef-06fc92e5705b",
   "metadata": {},
   "source": [
    "### Background corpora"
   ]
  },
  {
   "cell_type": "markdown",
   "id": "aaad22b7-c038-4c89-a58a-cbab4ba59e00",
   "metadata": {},
   "source": [
    "##### For enron passages:\n",
    "\n",
    "'id': unique passage id  \n",
    "'email_title': passage title  \n",
    "'text': passage text  \n",
    "'sents': passage text split into sentences  \n",
    "'ner_tags_lst': list of NER tags annotated over the text  (using Spacy)  \n",
    "'linked_entities_lst': list of entities linked to Wikidata from the text (using Spacy entity linker)  \n",
    "'GLOBAL_ENTITIES':  final curated list of global entities in the passage\n",
    "'LOCAL_ENTITIES':  final curated list of local entities in the passage"
   ]
  },
  {
   "cell_type": "code",
   "execution_count": 11,
   "id": "85f93894-025b-4a19-ae95-26a7323d1e8b",
   "metadata": {},
   "outputs": [
    {
     "name": "stdout",
     "output_type": "stream",
     "text": [
      "e0_p0 dict_keys(['id', 'email_title', 'title', 'text', 'sents', 'ner_tags_lst', 'linked_entities_lst', 'GLOBAL_ENTITIES', 'LOCAL_ENTITIES'])\n"
     ]
    }
   ],
   "source": [
    "with open(f\"{prefix}/datasets/concurrentqa/data/corpora/enron_only_corpus.json\") as f:\n",
    "    corpus = json.load(f)\n",
    "    \n",
    "for ind, (k, v) in enumerate(corpus.items()):\n",
    "    print(k, v.keys())\n",
    "    break"
   ]
  },
  {
   "cell_type": "code",
   "execution_count": null,
   "id": "b804df3c-2b4c-4288-8979-eae8efdd4935",
   "metadata": {},
   "outputs": [],
   "source": []
  },
  {
   "cell_type": "markdown",
   "id": "e93f8a2e-6ef0-4ee9-8d27-a6e0b8811842",
   "metadata": {},
   "source": [
    "##### For Wiki passages:\n",
    "'title': passage title   \n",
    "'text': passage text  \n",
    "'sents': passage text split into sentences   \n",
    "'id': unique passage id  "
   ]
  },
  {
   "cell_type": "code",
   "execution_count": 15,
   "id": "0935f27b-89c7-41ec-8892-02708b41075a",
   "metadata": {},
   "outputs": [],
   "source": [
    "with open(f\"{prefix}/datasets/concurrentqa/data/corpora/wiki_only_corpus.json\") as f:\n",
    "    corpus = json.load(f)\n",
    "    \n",
    "for ind, (k, v) in enumerate(corpus.items()):\n",
    "    print(k, v)\n",
    "    break\n",
    "    \n",
    "v.keys()"
   ]
  },
  {
   "cell_type": "code",
   "execution_count": null,
   "id": "56946554-df79-4c7d-be43-e71579d7cac9",
   "metadata": {},
   "outputs": [],
   "source": []
  },
  {
   "cell_type": "markdown",
   "id": "ec516997-3c47-407f-abfa-438b62300ae2",
   "metadata": {},
   "source": [
    "##### Combined enron and wiki passages"
   ]
  },
  {
   "cell_type": "code",
   "execution_count": 16,
   "id": "12dd1024-30cc-4e6c-92a2-5480b883e5c7",
   "metadata": {},
   "outputs": [
    {
     "name": "stdout",
     "output_type": "stream",
     "text": [
      "0 {'title': 'One Night Stand (1984 film)', 'text': 'One Night Stand is a 1984 film directed by John Duigan.', 'sents': ['One Night Stand is a 1984 film directed by John Duigan.'], 'id': '0'}\n"
     ]
    },
    {
     "data": {
      "text/plain": [
       "dict_keys(['title', 'text', 'sents', 'id'])"
      ]
     },
     "execution_count": 16,
     "metadata": {},
     "output_type": "execute_result"
    }
   ],
   "source": [
    "with open(f\"{prefix}/datasets/concurrentqa/data/corpora/combined_corpus.json\") as f:\n",
    "    corpus = json.load(f)\n",
    "    \n",
    "for ind, (k, v) in enumerate(corpus.items()):\n",
    "    print(k, v)\n",
    "    break\n",
    "    \n",
    "v.keys()"
   ]
  },
  {
   "cell_type": "code",
   "execution_count": null,
   "id": "ac316408-5a7f-47d4-afa9-915c709b6880",
   "metadata": {},
   "outputs": [],
   "source": []
  },
  {
   "cell_type": "code",
   "execution_count": null,
   "id": "94837932-5886-44d9-b90b-bbba51e4d021",
   "metadata": {},
   "outputs": [],
   "source": []
  }
 ],
 "metadata": {
  "kernelspec": {
   "display_name": "Python 3",
   "language": "python",
   "name": "python3"
  },
  "language_info": {
   "codemirror_mode": {
    "name": "ipython",
    "version": 3
   },
   "file_extension": ".py",
   "mimetype": "text/x-python",
   "name": "python",
   "nbconvert_exporter": "python",
   "pygments_lexer": "ipython3",
   "version": "3.6.13"
  }
 },
 "nbformat": 4,
 "nbformat_minor": 5
}
