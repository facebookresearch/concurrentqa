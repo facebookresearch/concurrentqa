{
 "cells": [
  {
   "cell_type": "code",
   "execution_count": 2,
   "metadata": {},
   "outputs": [],
   "source": [
    "import json\n",
    "\n",
    "test_qas = json.load(open(\"/private/home/xwhan/data/hotpot/hotpot_test_fullwiki_v1.json\"))\n",
    "test_results = json.load(open(\"/private/home/xwhan/data/hotpot/results/hotpot_test_b200_k500.json\"))"
   ]
  },
  {
   "cell_type": "code",
   "execution_count": 4,
   "metadata": {},
   "outputs": [
    {
     "data": {
      "text/plain": [
       "True"
      ]
     },
     "execution_count": 4,
     "metadata": {},
     "output_type": "execute_result"
    }
   ],
   "source": [
    "len(test_qas) == len(test_results[\"answer\"])"
   ]
  },
  {
   "cell_type": "code",
   "execution_count": 15,
   "metadata": {},
   "outputs": [
    {
     "name": "stdout",
     "output_type": "stream",
     "text": [
      "Who has been in more bands, Deron Miller or Steve Marriott?\n",
      "Deron John Miller\n"
     ]
    }
   ],
   "source": [
    "import random\n",
    "qid2question = {_[\"_id\"]:_[\"question\"] for _ in test_qas}\n",
    "qids = list(test_results[\"answer\"].keys())\n",
    "random.shuffle(qids)\n",
    "\n",
    "\n",
    "\n",
    "print(qid2question[qids[0]])\n",
    "print(test_results[\"answer\"][qids[0]])"
   ]
  },
  {
   "cell_type": "code",
   "execution_count": 63,
   "metadata": {},
   "outputs": [
    {
     "name": "stdout",
     "output_type": "stream",
     "text": [
      "Collecting seaborn\r\n",
      "  Using cached https://files.pythonhosted.org/packages/c7/e6/54aaaafd0b87f51dfba92ba73da94151aa3bc179e5fe88fc5dfb3038e860/seaborn-0.10.1-py3-none-any.whl\r\n",
      "Collecting matplotlib>=2.1.2 (from seaborn)\r\n",
      "  Using cached https://files.pythonhosted.org/packages/96/a7/b6fa244fd8a8814ef9408c8a5a7e4ed0340e232a6f0ce2046b42e50672c0/matplotlib-3.3.1-cp36-cp36m-manylinux1_x86_64.whl\r\n",
      "Requirement already satisfied: scipy>=1.0.1 in /public/apps/anaconda3/5.0.1/lib/python3.6/site-packages (from seaborn)\r\n",
      "Requirement already satisfied: numpy>=1.13.3 in /public/apps/anaconda3/5.0.1/lib/python3.6/site-packages (from seaborn)\r\n",
      "Requirement already satisfied: pandas>=0.22.0 in /public/apps/anaconda3/5.0.1/lib/python3.6/site-packages (from seaborn)\r\n",
      "Requirement already satisfied: python-dateutil>=2.1 in /public/apps/anaconda3/5.0.1/lib/python3.6/site-packages (from matplotlib>=2.1.2->seaborn)\r\n",
      "Collecting pillow>=6.2.0 (from matplotlib>=2.1.2->seaborn)\r\n",
      "  Using cached https://files.pythonhosted.org/packages/30/bf/92385b4262178ca22b34f82e0e09c2922eb351fe39f3cc7b8ba9ea555b41/Pillow-7.2.0-cp36-cp36m-manylinux1_x86_64.whl\r\n",
      "Collecting certifi>=2020.06.20 (from matplotlib>=2.1.2->seaborn)\r\n",
      "  Using cached https://files.pythonhosted.org/packages/5e/c4/6c4fe722df5343c33226f0b4e0bb042e4dc13483228b4718baf286f86d87/certifi-2020.6.20-py2.py3-none-any.whl\r\n",
      "Requirement already satisfied: pyparsing!=2.0.4,!=2.1.2,!=2.1.6,>=2.0.3 in /public/apps/anaconda3/5.0.1/lib/python3.6/site-packages (from matplotlib>=2.1.2->seaborn)\r\n",
      "Requirement already satisfied: cycler>=0.10 in /public/apps/anaconda3/5.0.1/lib/python3.6/site-packages (from matplotlib>=2.1.2->seaborn)\r\n",
      "Collecting kiwisolver>=1.0.1 (from matplotlib>=2.1.2->seaborn)\r\n",
      "  Using cached https://files.pythonhosted.org/packages/ae/23/147de658aabbf968324551ea22c0c13a00284c4ef49a77002e91f79657b7/kiwisolver-1.2.0-cp36-cp36m-manylinux1_x86_64.whl\r\n",
      "Requirement already satisfied: pytz>=2011k in /public/apps/anaconda3/5.0.1/lib/python3.6/site-packages (from pandas>=0.22.0->seaborn)\r\n",
      "Requirement already satisfied: six>=1.5 in /public/apps/anaconda3/5.0.1/lib/python3.6/site-packages (from python-dateutil>=2.1->matplotlib>=2.1.2->seaborn)\r\n",
      "Installing collected packages: pillow, certifi, kiwisolver, matplotlib, seaborn\r\n",
      "Successfully installed certifi-2020.6.20 kiwisolver-1.2.0 matplotlib-3.3.1 pillow-7.2.0 seaborn-0.10.1\r\n",
      "\u001b[33mYou are using pip version 9.0.1, however version 20.2.2 is available.\r\n",
      "You should consider upgrading via the 'pip install --upgrade pip' command.\u001b[0m\r\n"
     ]
    }
   ],
   "source": [
    "# Install a pip package in the current Jupyter kernel\n",
    "import sys\n",
    "!{sys.executable} -m pip install seaborn --user"
   ]
  },
  {
   "cell_type": "code",
   "execution_count": 119,
   "metadata": {},
   "outputs": [
    {
     "data": {
      "image/png": "[encoded data removed]",
      "text/plain": [
       "<matplotlib.figure.Figure at 0x7f1cd8117748>"
      ]
     },
     "metadata": {},
     "output_type": "display_data"
    }
   ],
   "source": [
    "# figure showing the efficieicnty trade off using 16-core CPUs\n",
    "import matplotlib.pyplot as plt\n",
    "import seaborn as sns\n",
    "sns.set(style='ticks')\n",
    "# Asai et al.2020\n",
    "plt.xlim(-5, 210)\n",
    "plt.ylim(35, 70)\n",
    "\n",
    "# Asai et al. 500 + 8*3\n",
    "plt.scatter(133, 61.4, c='#1f77b4')\n",
    "plt.text(133 - 30, 61.4 - 3, \"Graph Recurrent Retriever\")\n",
    "\n",
    "# Gold \n",
    "plt.scatter(0.5, 39.1, c='#1f77b4')\n",
    "plt.text(3.5, 39.1 - 0.5, \"GoldEn\")\n",
    "\n",
    "# DiKIT\n",
    "plt.scatter(0.5, 42.9, c='#1f77b4')\n",
    "plt.text(3.5, 42.9 - 0.5, \"DrKIT\")\n",
    "\n",
    "# Semmantic Retrieval\n",
    "plt.scatter(50*0.3, 47.6, c='#1f77b4')\n",
    "plt.text(50*0.3 + 3, 47.6 - 0.5, \"Semantic Retrieval\")\n",
    "\n",
    "# HGN\n",
    "plt.scatter(50*0.3, 60.0, c='#1f77b4')\n",
    "plt.text(50*0.3 + 3, 60 - 0.5, \"HGN\")\n",
    "\n",
    "# TransformerXH 115 cross attention 52.9\n",
    "plt.scatter(115*0.3, 52.9, c='#1f77b4')\n",
    "plt.text(115*0.3 + 3, 52.9 - 0.5, \"TransformerXH\")\n",
    "\n",
    "\n",
    "time_f1s = [(1.02, 55.5), (4.7, 61.5), (7.7, 62.7), (14.7, 64.0), (42, 65.6), (99.2, 66.3), (207, 67.3)]\n",
    "xs = [_[0] for _ in time_f1s]\n",
    "ys =[_[1] for _ in time_f1s]\n",
    "plt.plot(xs,ys, linestyle='--', marker='s', c='r', label='Recursive Dense Retriever Topk')\n",
    "\n",
    "plt.xlabel('sec/Q', fontsize=12)\n",
    "plt.ylabel('Joint F1', fontsize=12)\n",
    "\n",
    "lg = plt.legend(loc='lower right', fontsize=10)\n",
    "frame = lg.get_frame()\n",
    "# frame.set_edgecolor('black')\n",
    "lg.draw_frame(True)\n",
    "\n",
    "\n",
    "plt.savefig('efficiency.pdf')\n",
    "plt.show()"
   ]
  },
  {
   "cell_type": "code",
   "execution_count": 431,
   "metadata": {},
   "outputs": [],
   "source": [
    "def autolabel(rects):\n",
    "    \"\"\"Attach a text label above each bar in *rects*, displaying its height.\"\"\"\n",
    "    for rect in rects:\n",
    "        height = rect.get_height()\n",
    "        ax.annotate('{}'.format(height),\n",
    "                    xy=(rect.get_x() + rect.get_width() / 2, height),\n",
    "                    xytext=(0, 3),  # 3 points vertical offset\n",
    "                    textcoords=\"offset points\",\n",
    "                    ha='center', va='bottom')"
   ]
  },
  {
   "cell_type": "code",
   "execution_count": 450,
   "metadata": {},
   "outputs": [
    {
     "name": "stderr",
     "output_type": "stream",
     "text": [
      "/public/apps/anaconda3/5.0.1/lib/python3.6/site-packages/matplotlib/figure.py:418: UserWarning: matplotlib is currently using a non-GUI backend, so cannot show the figure\n",
      "  \"matplotlib is currently using a non-GUI backend, \"\n"
     ]
    },
    {
     "data": {
      "image/png": "[encoded data removed]",
      "text/plain": [
       "<matplotlib.figure.Figure at 0x7f1c4e731278>"
      ]
     },
     "metadata": {},
     "output_type": "display_data"
    }
   ],
   "source": [
    "# lines comparing the performance of bridge and comparison questions, use beam search to get top100\n",
    "import matplotlib.pyplot as plt\n",
    "import seaborn as sns\n",
    "%matplotlib inline\n",
    "sns.color_palette(\"tab10\")\n",
    "sns.set(style='ticks')\n",
    "\n",
    "k = [1,2,5,10,20,50,80,100]\n",
    "comparison = [95.8, 98.3, 99.3, 99.5, 99.7, 99.9, 99.9,100]\n",
    "bridge = [61.2, 66.8, 72.8, 75.7, 78.1, 80.4, 81.7, 82.0]\n",
    "\n",
    "f, (a0, a1) = plt.subplots(1, 2, gridspec_kw={'width_ratios': [2.5, 1]})\n",
    "a0.plot(k, comparison, marker=\"o\", linestyle='--', label=\"Comparison\")\n",
    "a0.plot(k, bridge, marker=\"s\", linestyle='--', label=\"Bridge\")\n",
    "a0.set_xlabel('Top-k Chain')\n",
    "a0.set_ylabel('Recall')\n",
    "a0.legend()\n",
    "\n",
    "a1.yaxis.tick_right()\n",
    "a1.yaxis.set_label_position(\"right\")\n",
    "p = a1.bar(np.arange(2), [97.8, 79.0], 0.5, color=('#1f77b4', '#ff7f0e'))\n",
    "autolabel(p)\n",
    "a1.set_xlabel('Q type')\n",
    "a1.set_ylabel('Reranked Top1 EM Accuracy')\n",
    "plt.sca(a1)\n",
    "plt.xticks(np.arange(2), [\"Comparison\", \"Bridge\"])\n",
    "f.tight_layout(pad=0.05)\n",
    "plt.savefig('retrieva_types.pdf')\n",
    "f.show()\n"
   ]
  },
  {
   "cell_type": "code",
   "execution_count": 451,
   "metadata": {},
   "outputs": [
    {
     "data": {
      "image/png": "[encoded data removed]",
      "text/plain": [
       "<matplotlib.figure.Figure at 0x7f1c4e6e3a58>"
      ]
     },
     "metadata": {},
     "output_type": "display_data"
    }
   ],
   "source": [
    "# close-book QA diagnosis experiments\n",
    "import matplotlib.pyplot as plt\n",
    "import seaborn as sns\n",
    "import numpy as np\n",
    "import pandas as pd\n",
    "sns.set_style(\"white\")\n",
    "sns.set_palette(\"colorblind\", 10)\n",
    "# sns.set_color_codes(\"g\")\n",
    "bart_ems = [26.5, 27.4, 14.5]\n",
    "datasets = [\"NQ\", \"WebQ\", \"HotpotQA\"]\n",
    "sota_ems = [51.4, 45.5, 60.0]\n",
    "\n",
    "width = 0.2\n",
    "ind = np.arange(3)\n",
    "fig, ax = plt.subplots()\n",
    "p1 = ax.bar(ind - width/2, bart_ems, width, label=\"retrieval-free BART\", color='tab:blue')\n",
    "p2 = ax.bar(ind + width/2, sota_ems, width, label=\"retrieved-based SoTA\", color='tab:red')\n",
    "plt.xticks(ind, datasets)\n",
    "# plt.yticks(np.arange(0, 60, 10))\n",
    "plt.ylabel('Answer EM', fontsize=12)\n",
    "plt.xlabel('Datasets', fontsize=12)\n",
    "\n",
    "def autolabel(rects):\n",
    "    \"\"\"Attach a text label above each bar in *rects*, displaying its height.\"\"\"\n",
    "    for rect in rects:\n",
    "        height = rect.get_height()\n",
    "        ax.annotate('{}'.format(height),\n",
    "                    xy=(rect.get_x() + rect.get_width() / 2, height),\n",
    "                    xytext=(0, 3),  # 3 points vertical offset\n",
    "                    textcoords=\"offset points\",\n",
    "                    ha='center', va='bottom')\n",
    "        \n",
    "autolabel(p1)\n",
    "autolabel(p2)\n",
    "\n",
    "lg = plt.legend(loc='upper left', fontsize=10)\n",
    "frame = lg.get_frame()\n",
    "lg.draw_frame(True)\n",
    "plt.ylim(0, 70)\n",
    "plt.savefig('retrieval_free.pdf')\n",
    "plt.show()"
   ]
  },
  {
   "cell_type": "code",
   "execution_count": 177,
   "metadata": {},
   "outputs": [
    {
     "name": "stdout",
     "output_type": "stream",
     "text": [
      "7405\n",
      "0.3683997299122215\n",
      "0.6267386900742742\n"
     ]
    }
   ],
   "source": [
    "# evalute TFIDF hotpotQA retrieval results\n",
    "import json\n",
    "val_inputs = [json.loads(l) for l in open(\"/private/home/xwhan/data/hotpot/hotpot_qas_val.json\").readlines()]\n",
    "tfidf_results = json.load(open(\"/private/home/xwhan/data/hotpot/tfidf/hotpot_dev_tfidf_results.json\"))\n",
    "k = 20\n",
    "\n",
    "tfidf_covered = []\n",
    "bm25_covered = []\n",
    "for gold, res in zip(val_inputs, tfidf_results):\n",
    "    assert gold[\"question\"] == res[\"question\"]\n",
    "    \n",
    "    gold_sp = gold[\"sp\"]\n",
    "\n",
    "    tfidf_topk = res[\"tfidf_topk\"][:k]\n",
    "    bm25_topk = res[\"bm25_topk\"][:k]\n",
    "    \n",
    "    tfidf_covered.append(np.sum([int(_ in tfidf_topk) for _ in gold_sp]) == len(gold_sp))\n",
    "    bm25_covered.append(np.sum([int(_ in bm25_topk) for _ in gold_sp]) == len(gold_sp))\n",
    "\n",
    "print(len(tfidf_covered))\n",
    "print(np.mean(tfidf_covered))\n",
    "print(np.mean(bm25_covered))"
   ]
  },
  {
   "cell_type": "code",
   "execution_count": 188,
   "metadata": {},
   "outputs": [],
   "source": [
    "# get transformerXH P EM\n",
    "dev_transformer_xh = [json.loads(l) for l in open(\"/private/home/xwhan/code/Transformer-XH/data/hotpot_dev_graph.json\").readlines()]\n",
    "qid2goldsp = {_[\"_id\"]:_[\"sp\"] for _ in val_inputs}"
   ]
  },
  {
   "cell_type": "code",
   "execution_count": 192,
   "metadata": {},
   "outputs": [
    {
     "name": "stdout",
     "output_type": "stream",
     "text": [
      "5904\n",
      "0.8162262872628726\n"
     ]
    }
   ],
   "source": [
    "len(dev_transformer_xh[2][\"node\"])\n",
    "p_covered = []\n",
    "for item in dev_transformer_xh:\n",
    "    node_names = set([_[\"name\"] for _ in item[\"node\"]])\n",
    "    qid = item[\"qid\"]\n",
    "    gold_sp = qid2goldsp[qid]\n",
    "    gold_sp = [_.lower().replace(\" \", \"_\") for _ in gold_sp]\n",
    "    p_covered.append(np.sum([int(_ in node_names) for _ in gold_sp]) == len(gold_sp))\n",
    "print(len(p_covered))\n",
    "print(np.mean(p_covered))"
   ]
  },
  {
   "cell_type": "code",
   "execution_count": 294,
   "metadata": {},
   "outputs": [],
   "source": [
    "id2doc = json.load(open(\"/private/home/xwhan/Mhop-Pretrain/retrieval/index/abstracts_id2doc.json\"))\n",
    "title2text = {v[0]:v[1] for v in id2doc.values()}"
   ]
  },
  {
   "cell_type": "code",
   "execution_count": 332,
   "metadata": {},
   "outputs": [],
   "source": [
    "# pick an intro example to use \n",
    "val_inputs = [json.loads(l) for l in open(\"/private/home/xwhan/data/hotpot/hotpot_qas_train.json\").readlines()]\n",
    "bridge_val = [_ for _ in val_inputs if _[\"type\"] == \"bridge\" and len(_[\"question\"].split()) < 10]"
   ]
  },
  {
   "cell_type": "code",
   "execution_count": 371,
   "metadata": {},
   "outputs": [
    {
     "name": "stdout",
     "output_type": "stream",
     "text": [
      "3826\n",
      "{'question': 'In what country is the Holtermann collection located?', '_id': '5adff69955429925eb1afba6', 'answer': ['Australia'], 'sp': ['Holtermann collection', 'Hill End, New South Wales'], 'type': 'bridge'}\n"
     ]
    }
   ],
   "source": [
    "print(len(bridge_val))\n",
    "import random\n",
    "random.shuffle(bridge_val)\n",
    "print(bridge_val[0])"
   ]
  },
  {
   "cell_type": "code",
   "execution_count": 328,
   "metadata": {},
   "outputs": [
    {
     "data": {
      "text/plain": [
       "'Girl 27 is a 2007 documentary film about the 1937 rape of dancer and sometime movie extra Patricia Douglas (1917-2003) at an M-G-M exhibitors\\' convention, the front-page news stories that followed, and the studio\\'s subsequent cover-up of the crime. Also covered in the film are a similar assault on singer Eloise Spann and her subsequent suicide, and the better-known scandal involving actress Loretta Young and her \"adopted\" daughter Judy Lewis, the product of her affair with Clark Gable during the production of \"The Call of the Wild\".'"
      ]
     },
     "execution_count": 328,
     "metadata": {},
     "output_type": "execute_result"
    }
   ],
   "source": [
    "title2text['Clark Gable']"
   ]
  },
  {
   "cell_type": "code",
   "execution_count": null,
   "metadata": {},
   "outputs": [],
   "source": [
    "{'question': \"What was the nickname of Judy Lewis's father?\", '_id': '5a80b9df5542992bc0c4a7ec', 'answer': ['\"The King of Hollywood\"'], 'sp': ['Girl 27', 'Clark Gable'], 'type': 'bridge'}\n",
    "{'question': 'In what county is The Third Fitzwilliam Meetinghouse located?', '_id': '5a888d535542997e5c09a617', 'answer': ['Cheshire County, New Hampshire'], 'sp': ['Third Fitzwilliam Meetinghouse', 'Fitzwilliam, New Hampshire'], 'type': 'bridge'}\n",
    "{'question': 'Where does the descendant of the Red Setter originate? ', '_id': '5abde4595542991f66106095', 'answer': ['Scotland'], 'sp': ['Irish Setter', 'Scotch Collie'], 'type': 'bridge'}"
   ]
  },
  {
   "cell_type": "code",
   "execution_count": 453,
   "metadata": {},
   "outputs": [],
   "source": [
    "corpus = json.load(open(\"index/hotpotQA_corpus_dict.json\"))\n",
    "title2text = {v[\"title\"]:v[\"text\"] for v in corpus.values()}"
   ]
  },
  {
   "cell_type": "code",
   "execution_count": 456,
   "metadata": {},
   "outputs": [],
   "source": [
    "# bridge errors after reranking\n",
    "val_inputs = [json.loads(l) for l in open(\"/private/home/xwhan/data/hotpot/hotpot_qas_val.json\").readlines()]\n",
    "id2goldsp = {_[\"_id\"]:_[\"sp\"] for _ in val_inputs}\n",
    "id2goldans = {_[\"_id\"]:_[\"answer\"] for _ in val_inputs}\n",
    "id2type = {_[\"_id\"]:_[\"type\"] for _ in val_inputs}\n",
    "id2item = {_[\"_id\"]:_ for _ in val_inputs}\n",
    "results = json.load(open(\"/private/home/xwhan/data/hotpot/results/hotpot_val_b250_k250.json\"))"
   ]
  },
  {
   "cell_type": "code",
   "execution_count": 469,
   "metadata": {},
   "outputs": [
    {
     "name": "stdout",
     "output_type": "stream",
     "text": [
      "0.20986819871578236\n",
      "7405\n"
     ]
    }
   ],
   "source": [
    "bridge_errors = []\n",
    "bridge_c = 0\n",
    "for qid in results[\"titles\"].keys():\n",
    "    type_ = id2type[qid]\n",
    "    if type_ != \"bridge\":\n",
    "        continue\n",
    "    chain = results[\"titles\"][qid]\n",
    "    sp = id2goldsp[qid]\n",
    "    sp_covered = int(np.sum([int(_ in chain) for _ in sp]) == len(sp))\n",
    "    if not sp_covered:\n",
    "        bridge_errors.append({\n",
    "            \"id\":qid,\n",
    "            \"question\": id2item[qid][\"question\"],\n",
    "            \"sp\": sp,\n",
    "            \"error\": chain,\n",
    "            \"answer\": id2goldans[qid],\n",
    "        })\n",
    "    bridge_c += 1\n",
    "print(len(bridge_errors)/ bridge_c)\n",
    "print(len(results[\"titles\"].keys()))"
   ]
  },
  {
   "cell_type": "code",
   "execution_count": 470,
   "metadata": {},
   "outputs": [],
   "source": [
    "random.shuffle(bridge_errors)"
   ]
  },
  {
   "cell_type": "code",
   "execution_count": 546,
   "metadata": {},
   "outputs": [],
   "source": [
    "id2error = {_[\"id\"]: idx for idx, _ in enumerate(bridge_errors[:50])}\n",
    "json.dump(id2error, open(\"/private/home/xwhan/data/hotpot/retrieval_errors_50sampled.json\", \"w\"))"
   ]
  },
  {
   "cell_type": "code",
   "execution_count": 564,
   "metadata": {},
   "outputs": [
    {
     "name": "stdout",
     "output_type": "stream",
     "text": [
      "{'id': '5abba91e554299642a094b10', 'question': 'What languages did the son of Sacagawea speak?', 'sp': ['Charbonneau, Oregon', 'Jean Baptiste Charbonneau'], 'error': ['Museum of Human Beings', 'Jean Baptiste Charbonneau'], 'answer': ['French and English']}\n",
      "Gold:\n",
      "Charbonneau (also known as the Charbonneau District) is a private planned community within the city limits of Wilsonville in Clackamas County, Oregon, United States. It is on the opposite side the Willamette River from the main area of the city. The development was named for Jean Baptiste Charbonneau, the son of Sacagawea.\n",
      "Jean Baptiste Charbonneau (February 11, 1805 – May 16, 1866) was an American Indian explorer, guide, fur trapper trader, military scout during the Mexican-American War, \"alcalde\" (mayor) of Mission San Luis Rey de Francia and a gold prospector and hotel operator in Northern California. He spoke French and English, and learned German and Spanish during his six years in Europe from 1823 to 1829. He spoke Shoshone, his mother tongue, and other western American Indian languages, which he picked up during his years of trapping and guiding.\n",
      "Predicted:\n",
      "Museum of Human Beings, included in the National American Indian Heritage Month Booklist, November 2012 and 2013 is a novel written by Colin Sargent, which delves into the heart-rending life of Jean-Baptiste Charbonneau, the son of Sacagawea. Sacagawea was the Native American guide, who at 16 led the Lewis and Clark expedition.\n",
      "Jean Baptiste Charbonneau (February 11, 1805 – May 16, 1866) was an American Indian explorer, guide, fur trapper trader, military scout during the Mexican-American War, \"alcalde\" (mayor) of Mission San Luis Rey de Francia and a gold prospector and hotel operator in Northern California. He spoke French and English, and learned German and Spanish during his six years in Europe from 1823 to 1829. He spoke Shoshone, his mother tongue, and other western American Indian languages, which he picked up during his years of trapping and guiding.\n"
     ]
    }
   ],
   "source": [
    "idx = id2error['5abba91e554299642a094b10']\n",
    "item = bridge_errors[idx]\n",
    "print(item)\n",
    "print(\"Gold:\")\n",
    "for t in item[\"sp\"]:\n",
    "    print(title2text[t])\n",
    "print(\"Predicted:\")\n",
    "for t in item[\"error\"]:\n",
    "    print(title2text[t])"
   ]
  },
  {
   "cell_type": "code",
   "execution_count": null,
   "metadata": {},
   "outputs": [],
   "source": []
  }
 ],
 "metadata": {
  "kernelspec": {
   "display_name": "Python 3",
   "language": "python",
   "name": "python3"
  },
  "language_info": {
   "codemirror_mode": {
    "name": "ipython",
    "version": 3
   },
   "file_extension": ".py",
   "mimetype": "text/x-python",
   "name": "python",
   "nbconvert_exporter": "python",
   "pygments_lexer": "ipython3",
   "version": "3.6.3"
  }
 },
 "nbformat": 4,
 "nbformat_minor": 2
}
